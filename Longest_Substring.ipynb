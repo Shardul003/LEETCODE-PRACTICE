{
  "nbformat": 4,
  "nbformat_minor": 0,
  "metadata": {
    "colab": {
      "provenance": [],
      "authorship_tag": "ABX9TyNan8JG+L5zIcS5yMuPTh9M",
      "include_colab_link": true
    },
    "kernelspec": {
      "name": "python3",
      "display_name": "Python 3"
    },
    "language_info": {
      "name": "python"
    }
  },
  "cells": [
    {
      "cell_type": "markdown",
      "metadata": {
        "id": "view-in-github",
        "colab_type": "text"
      },
      "source": [
        "<a href=\"https://colab.research.google.com/github/Shardul003/LEETCODE-PRACTICE/blob/main/Longest_Substring.ipynb\" target=\"_parent\"><img src=\"https://colab.research.google.com/assets/colab-badge.svg\" alt=\"Open In Colab\"/></a>"
      ]
    },
    {
      "cell_type": "code",
      "execution_count": 8,
      "metadata": {
        "id": "zH0AEr5I0756"
      },
      "outputs": [],
      "source": [
        "def longest_substring(arr):\n",
        "    l=len(arr)\n",
        "    maxlen=0\n",
        "    left=0\n",
        "    charset=[]\n",
        "    for right in range (0,l):\n",
        "        if arr[right] not in charset:\n",
        "            charset.append(arr[right])\n",
        "            maxlen=max(maxlen,right-left+1)\n",
        "        else:\n",
        "            while arr[right] in charset:\n",
        "                charset.remove(arr[left])\n",
        "                left=left+1\n",
        "            charset.append(arr[right])\n",
        "    return maxlen\n",
        "\n"
      ]
    },
    {
      "cell_type": "code",
      "source": [
        "s=\"abcabcbb\"\n",
        "obj=longest_substring(s)\n",
        "print(obj)"
      ],
      "metadata": {
        "colab": {
          "base_uri": "https://localhost:8080/"
        },
        "id": "bcL4ytdH0-Om",
        "outputId": "21dc1d49-70c7-462a-8549-822c29d3af09"
      },
      "execution_count": 9,
      "outputs": [
        {
          "output_type": "stream",
          "name": "stdout",
          "text": [
            "3\n"
          ]
        }
      ]
    },
    {
      "cell_type": "code",
      "source": [
        "\n",
        "s=\"bbbbb\"\n",
        "obj=longest_substring(s)\n",
        "print(obj)"
      ],
      "metadata": {
        "colab": {
          "base_uri": "https://localhost:8080/"
        },
        "id": "tq9Bu3uJ1Cao",
        "outputId": "18b48736-528d-4273-f038-b6d4bc1b2025"
      },
      "execution_count": 10,
      "outputs": [
        {
          "output_type": "stream",
          "name": "stdout",
          "text": [
            "1\n"
          ]
        }
      ]
    },
    {
      "cell_type": "code",
      "source": [
        "\n",
        "s=\"pwwkew\"\n",
        "obj=longest_substring(s)\n",
        "print(obj)"
      ],
      "metadata": {
        "colab": {
          "base_uri": "https://localhost:8080/"
        },
        "id": "2f3eKSAl1Oe1",
        "outputId": "e0ba6488-bc02-419a-c77c-e20e840ad619"
      },
      "execution_count": 11,
      "outputs": [
        {
          "output_type": "stream",
          "name": "stdout",
          "text": [
            "3\n"
          ]
        }
      ]
    },
    {
      "cell_type": "code",
      "source": [],
      "metadata": {
        "id": "6qqZsoF61VZk"
      },
      "execution_count": null,
      "outputs": []
    }
  ]
}