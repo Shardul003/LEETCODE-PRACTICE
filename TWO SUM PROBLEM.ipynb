{
  "nbformat": 4,
  "nbformat_minor": 0,
  "metadata": {
    "colab": {
      "provenance": [],
      "authorship_tag": "ABX9TyNgHCAQvdbxjZIsqlKnhNDR",
      "include_colab_link": true
    },
    "kernelspec": {
      "name": "python3",
      "display_name": "Python 3"
    },
    "language_info": {
      "name": "python"
    }
  },
  "cells": [
    {
      "cell_type": "markdown",
      "metadata": {
        "id": "view-in-github",
        "colab_type": "text"
      },
      "source": [
        "<a href=\"https://colab.research.google.com/github/Shardul003/LEETCODE-PRACTICE/blob/main/TWO%20SUM%20PROBLEM.ipynb\" target=\"_parent\"><img src=\"https://colab.research.google.com/assets/colab-badge.svg\" alt=\"Open In Colab\"/></a>"
      ]
    },
    {
      "cell_type": "code",
      "execution_count": 1,
      "metadata": {
        "id": "yFsmi0NVhIiP"
      },
      "outputs": [],
      "source": [
        "def two_sum(nums,target):\n",
        "  for i in range (0,len(nums)):\n",
        "    for j in range (i+1,len(nums)):\n",
        "      if nums[i]+nums[j]==target:\n",
        "        return [i,j]\n",
        "  return []\n"
      ]
    },
    {
      "cell_type": "code",
      "source": [
        "nums=[2,7,11,15]\n",
        "target=9\n",
        "obj=two_sum(nums,target)\n",
        "print(obj)"
      ],
      "metadata": {
        "colab": {
          "base_uri": "https://localhost:8080/"
        },
        "id": "UwVvhmgqiete",
        "outputId": "5d4cd29b-1e5d-485e-ac4b-e400eafb219b"
      },
      "execution_count": 2,
      "outputs": [
        {
          "output_type": "stream",
          "name": "stdout",
          "text": [
            "[0, 1]\n"
          ]
        }
      ]
    },
    {
      "cell_type": "code",
      "source": [
        "nums=[3,2,4]\n",
        "target=6\n",
        "obj=two_sum(nums,target)\n",
        "print(obj)"
      ],
      "metadata": {
        "colab": {
          "base_uri": "https://localhost:8080/"
        },
        "id": "2QJXVoLzig62",
        "outputId": "8df53257-81fe-4117-91e6-6ff3351a9019"
      },
      "execution_count": 3,
      "outputs": [
        {
          "output_type": "stream",
          "name": "stdout",
          "text": [
            "[1, 2]\n"
          ]
        }
      ]
    },
    {
      "cell_type": "code",
      "source": [
        "nums=[3,3]\n",
        "target=6\n",
        "obj=two_sum(nums,target)\n",
        "print(obj)"
      ],
      "metadata": {
        "colab": {
          "base_uri": "https://localhost:8080/"
        },
        "id": "vyYITjdcirjW",
        "outputId": "b2da116b-5aad-4d7d-d89a-e48e5ec238de"
      },
      "execution_count": 4,
      "outputs": [
        {
          "output_type": "stream",
          "name": "stdout",
          "text": [
            "[0, 1]\n"
          ]
        }
      ]
    },
    {
      "cell_type": "code",
      "source": [
        "\n"
      ],
      "metadata": {
        "id": "Vnz9wi7fiwbn"
      },
      "execution_count": null,
      "outputs": []
    }
  ]
}